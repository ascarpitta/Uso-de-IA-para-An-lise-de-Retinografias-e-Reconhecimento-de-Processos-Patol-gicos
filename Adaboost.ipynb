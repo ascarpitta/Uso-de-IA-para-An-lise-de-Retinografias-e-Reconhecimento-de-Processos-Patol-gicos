{
 "cells": [
  {
   "cell_type": "code",
   "execution_count": 51,
   "metadata": {},
   "outputs": [],
   "source": [
    "import random\n",
    "import matplotlib.pyplot as plt\n",
    "import numpy as np\n",
    "import glob\n",
    "import cv2\n",
    "import pandas as pd\n",
    "from enum import Enum\n",
    "from sklearn.decomposition import PCA\n",
    "from sklearn.ensemble import AdaBoostClassifier"
   ]
  },
  {
   "cell_type": "code",
   "execution_count": 52,
   "metadata": {},
   "outputs": [],
   "source": [
    "def drawPredict(boost, amostraImgTeste, amostraTeste, index):\n",
    "    fPositivo = 0\n",
    "    vPositivo = 0\n",
    "    fNegativo = 0\n",
    "    vNegativo = 0\n",
    "    \n",
    "    if amostraTeste[index] == 1:\n",
    "        plt.title(\"\\nLabel:{}\".format(\"Retinopatia\"))\n",
    "    else:\n",
    "        plt.title(\"\\nLabel:{}\".format(\"Saudável\"))\n",
    "    # plt.show()\n",
    "    \n",
    "    predict = \"Retinopatia\" if boost.predict([amostraImgTeste[index]]) == 1 else \"Saudável\"\n",
    "    label = \"Retinopatia\" if amostraTeste[index] == 1 else \"Saudável\"\n",
    "    \n",
    "    vPositivo = 1 if (predict == \"Retinopatia\" and label == \"Retinopatia\") else 0\n",
    "    fPositivo = 1 if (predict == \"Retinopatia\" and label == \"Saudável\") else 0\n",
    "    vNegativo = 1 if (predict == \"Saudável\" and label == \"Saudável\") else 0\n",
    "    fNegativo = 1 if (predict == \"Saudável\" and label == \"Retinopatia\") else 0\n",
    "    #print(\"FP: \",fPositivo, \"| VP:\",vPositivo, \"| FN:\",fNegativo, \"| VN:\",vNegativo)\n",
    "    #print(\"O modelo previu:\", predict, \"| resposta correta é:\", label)\n",
    "    \n",
    "    return fPositivo, vPositivo, fNegativo, vNegativo"
   ]
  },
  {
   "cell_type": "code",
   "execution_count": 64,
   "metadata": {},
   "outputs": [],
   "source": [
    "def adaBoost(amostraImgTreino, amostraTreino, amostraImgTeste, amostraTeste):\n",
    "    fPositivo = 0\n",
    "    vPositivo = 0\n",
    "    fNegativo = 0\n",
    "    vNegativo = 0    \n",
    "    boost = AdaBoostClassifier()\n",
    "    \n",
    "    # Treino\n",
    "    boost.fit(amostraImgTreino, amostraTreino)\n",
    "    \n",
    "    #Teste\n",
    "    acc = boost.score(amostraImgTeste, amostraTeste) * 100\n",
    "    for x in range (len(amostraImgTeste)):\n",
    "        fP, vP, fN, vN = drawPredict(boost, amostraImgTeste, amostraTeste, x)\n",
    "        fPositivo += fP\n",
    "        vPositivo += vP\n",
    "        fNegativo += fN\n",
    "        vNegativo += vN\n",
    "        \n",
    "    return acc, fPositivo, vPositivo, fNegativo, vNegativo"
   ]
  },
  {
   "cell_type": "code",
   "execution_count": 54,
   "metadata": {},
   "outputs": [],
   "source": [
    "def splitTestTrain(imgPreProcessamento, dadosClassificacao):\n",
    "    indexRetinopatia = np.where(dadosClassificacao==1)[0]\n",
    "    indexSaudavel = np.where(dadosClassificacao==0)[0]\n",
    "    \n",
    "    labelsRetinopatia = list(dadosClassificacao[indexRetinopatia])\n",
    "    labelsSaudavel = list(dadosClassificacao[indexSaudavel])\n",
    "    \n",
    "    imagensRetinopatia = list(imgPreProcessamento[indexRetinopatia])\n",
    "    imagensSaudavel = list(imgPreProcessamento[indexSaudavel])\n",
    "    \n",
    "    tamTreinoRetinopatia = int(len(labelsRetinopatia) * 0.8)\n",
    "    tamTreinoSaudavel = int(len(labelsRetinopatia) * 0.8)\n",
    "    \n",
    "    #Treino\n",
    "    amostraTreinoRetinopatia = labelsRetinopatia[:tamTreinoRetinopatia]\n",
    "    amostraTreinoSaudavel = labelsSaudavel[:tamTreinoSaudavel]\n",
    "    \n",
    "    amostraImgTreinoRetinopatia = imagensRetinopatia[:tamTreinoRetinopatia]\n",
    "    amostraImgTreinoSaudavel = imagensSaudavel[:tamTreinoSaudavel]\n",
    "    \n",
    "    amostraTreino = np.concatenate((amostraTreinoRetinopatia, amostraTreinoSaudavel), axis=None)\n",
    "    amostraImgTreino = np.concatenate((amostraImgTreinoRetinopatia, amostraImgTreinoSaudavel), axis=None)\n",
    "     \n",
    "    #Teste\n",
    "    amostraTesteRetinopatia = labelsRetinopatia[tamTreinoRetinopatia:]\n",
    "    amostraTesteSaudavel = labelsSaudavel[tamTreinoSaudavel:]\n",
    "    \n",
    "    amostraImgTesteRetinopatia = imagensRetinopatia[tamTreinoRetinopatia:]\n",
    "    amostraImgTesteSaudavel = imagensSaudavel[tamTreinoSaudavel:]\n",
    "    \n",
    "    amostraTeste = np.concatenate((amostraTesteRetinopatia, amostraTesteSaudavel), axis=None)\n",
    "    amostraImgTeste = np.concatenate((amostraImgTesteRetinopatia, amostraImgTesteSaudavel), axis=None)\n",
    "    \n",
    "    amostraTreino = amostraTreino.reshape(-1, 1)\n",
    "    amostraTeste = amostraTeste.reshape(-1, 1)\n",
    "    amostraImgTreino = amostraImgTreino.reshape(-1, 7)\n",
    "    amostraImgTeste = amostraImgTeste.reshape(-1, 7)\n",
    "               \n",
    "    return amostraImgTreino, amostraTreino, amostraImgTeste, amostraTeste"
   ]
  },
  {
   "cell_type": "code",
   "execution_count": 55,
   "metadata": {},
   "outputs": [],
   "source": [
    "def draw(images, labels):\n",
    "    plt.figure(figsize=(10, 10))\n",
    "    for i in range(0, 9):\n",
    "        plt.subplot(330 + 1 + i)\n",
    "        plt.imshow(images[i], cmap=plt.get_cmap('gray'))\n",
    "        if labels[i] == 1:\n",
    "            plt.title(\"\\nLabel:{}\".format(\"Retinopatia\"))\n",
    "        else:\n",
    "            plt.title(\"\\nLabel:{}\".format(\"Saudável\"))\n",
    "    # show the plot\n",
    "    # plt.show()"
   ]
  },
  {
   "cell_type": "code",
   "execution_count": 67,
   "metadata": {},
   "outputs": [],
   "source": [
    "def fd_hu_moments(image):\n",
    "    feature = cv2.HuMoments(cv2.moments(image)).flatten()\n",
    "    return feature\n",
    "\n",
    "def extract_features(images):\n",
    "    # Draw.draw(images, labels)\n",
    "    succinct_x = []\n",
    "    \n",
    "    succinct_x = np.empty(shape=(0,7))\n",
    "    for image in images:\n",
    "        succinct_x = np.vstack([fd_hu_moments(image), succinct_x])\n",
    "\n",
    "    return succinct_x"
   ]
  },
  {
   "cell_type": "code",
   "execution_count": 68,
   "metadata": {},
   "outputs": [],
   "source": [
    "# 1) Load images and labels\n",
    "base = \"BaseImagens\\Baseinteira\\*.tif\"\n",
    "planilha = 'BaseImagens.csv'\n",
    "filesBase = sorted(glob.glob(base))\n",
    "dadosPlanilha = pd.read_csv(planilha, sep=\";\")\n",
    "dadosClassificacao = np.array(dadosPlanilha['classificacao'].tolist())\n",
    "imagesBase = np.array([cv2.imread(path, cv2.IMREAD_GRAYSCALE) for path in filesBase])"
   ]
  },
  {
   "cell_type": "code",
   "execution_count": 72,
   "metadata": {},
   "outputs": [
    {
     "name": "stdout",
     "output_type": "stream",
     "text": [
      "Extract features method: HUMOMENTS\n"
     ]
    },
    {
     "name": "stderr",
     "output_type": "stream",
     "text": [
      "C:\\Users\\Scarpitta\\anaconda3\\lib\\site-packages\\sklearn\\utils\\validation.py:73: DataConversionWarning: A column-vector y was passed when a 1d array was expected. Please change the shape of y to (n_samples, ), for example using ravel().\n",
      "  return f(**kwargs)\n"
     ]
    },
    {
     "name": "stdout",
     "output_type": "stream",
     "text": [
      "adaBoost: 55.00%\n",
      "Acurácia: 55.00%\n",
      "Especificidade: 52.50%\n",
      "Sensibilidade: 60.00%\n",
      "=============================\n"
     ]
    },
    {
     "data": {
      "image/png": "[encoded data removed]",
      "text/plain": [
       "<Figure size 432x288 with 1 Axes>"
      ]
     },
     "metadata": {
      "needs_background": "light"
     },
     "output_type": "display_data"
    }
   ],
   "source": [
    "# 2) Extract the features with one of four methods: 'HUMOMENTS'\n",
    "imgPreProcessamento = extract_features(imagesBase)\n",
    "print('Extract features method: HUMOMENTS')\n",
    "\n",
    "# 3) Split data into train & test sets, including shuffle of the data\n",
    "amostraImgTreino, amostraTreino, amostraImgTeste, amostraTeste = splitTestTrain(imgPreProcessamento, dadosClassificacao)\n",
    "\n",
    "# 4) Train the models\n",
    "# print('Begins testing the models...')\n",
    "\n",
    "results, fPositivo, vPositivo, fNegativo, vNegativo = adaBoost(amostraImgTreino, amostraTreino, amostraImgTeste, amostraTeste)\n",
    "#print(\"FP: \",fPositivo, \"| VP:\",vPositivo, \"| FN:\",fNegativo, \"| VN:\",vNegativo)\n",
    "\n",
    "acuracia = ((vPositivo + vNegativo)/(vPositivo + fPositivo + vNegativo + fNegativo))*100\n",
    "especificidade = (vNegativo/(vNegativo + fPositivo))*100\n",
    "sensibilidade = (vPositivo/(vPositivo + fNegativo))*100\n",
    "\n",
    "# print('The average results for standard machine learning models, with range:', s)\n",
    "print('adaBoost: {:.2f}%'.format(results))\n",
    "print('Acurácia: {:.2f}%'.format(acuracia))\n",
    "print('Especificidade: {:.2f}%'.format(especificidade))\n",
    "print('Sensibilidade: {:.2f}%'.format(sensibilidade))\n",
    "print('=============================')\n"
   ]
  },
  {
   "cell_type": "code",
   "execution_count": null,
   "metadata": {},
   "outputs": [],
   "source": []
  }
 ],
 "metadata": {
  "kernelspec": {
   "display_name": "Python 3",
   "language": "python",
   "name": "python3"
  },
  "language_info": {
   "codemirror_mode": {
    "name": "ipython",
    "version": 3
   },
   "file_extension": ".py",
   "mimetype": "text/x-python",
   "name": "python",
   "nbconvert_exporter": "python",
   "pygments_lexer": "ipython3",
   "version": "3.8.3"
  }
 },
 "nbformat": 4,
 "nbformat_minor": 4
}
